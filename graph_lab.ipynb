{
 "cells": [
  {
   "cell_type": "markdown",
   "id": "2d65a8a5-860e-41d8-ac27-fabb65da8243",
   "metadata": {},
   "source": [
    "# Graph Lab"
   ]
  },
  {
   "cell_type": "markdown",
   "id": "0287692e-0294-4c54-8ad3-c8d8425ab85c",
   "metadata": {
    "tags": []
   },
   "source": [
    "## Header information:\n",
    "\n",
    "  - Author #1: Wenyu Yin (yinw7@mcmaster.ca)\n",
    "  - Author #2: Xiang Zhang (zhanx326@mcmaster.ca)\n",
    "  - Gitlab URL: https://gitlab.cas.mcmaster.ca/zhanx326/l1-graph-lab.git\n",
    "  - Avenue to Learn group name: Group 30"
   ]
  },
  {
   "cell_type": "code",
   "execution_count": 1,
   "id": "d930eca9-bac7-44ed-b626-037b948c8a9b",
   "metadata": {},
   "outputs": [],
   "source": [
    "# Load graph data in csv\n",
    "from subway.utils.dataLoader import DataLoader\n",
    "\n",
    "data_loader = DataLoader('_dataset/london.stations - Test.csv', '_dataset/london.lines - Test.csv', '_dataset/london.connections - Test.csv')\n",
    "# data_loader = DataLoader('_dataset/london.stations.csv', '_dataset/london.lines.csv', '_dataset/london.connections.csv')\n",
    "\n",
    "stations = data_loader.loadStation()\n",
    "lines = data_loader.loadLine()\n",
    "connections = data_loader.loadConnections(stations, lines)"
   ]
  },
  {
   "cell_type": "code",
   "execution_count": 2,
   "id": "86d14c15-a664-43ce-a46a-a68cab6e5425",
   "metadata": {},
   "outputs": [
    {
     "name": "stdout",
     "output_type": "stream",
     "text": [
      "Number of nodes: 9\n",
      "Number of edges: 20\n",
      "Average degree of the nodes: 4.44\n"
     ]
    }
   ],
   "source": [
    "# Compute the metrics\n",
    "from subway.utils.metricsHandler import MetricsHandler\n",
    "\n",
    "metrics_handler = MetricsHandler(stations, lines, connections)\n",
    "\n",
    "print(f\"Number of nodes: {metrics_handler.computeNodeNum()}\")\n",
    "print(f\"Number of edges: {metrics_handler.computeEdgeNum()}\")\n",
    "print(f\"Average degree of the nodes: {metrics_handler.computeAvgDeg():.2f}\")"
   ]
  },
  {
   "cell_type": "code",
   "execution_count": 3,
   "id": "016739ac-262f-44e9-ab18-aaae2ee4963d",
   "metadata": {},
   "outputs": [
    {
     "data": {
      "image/png": "[encoded data removed]",
      "text/plain": [
       "<Figure size 640x480 with 1 Axes>"
      ]
     },
     "metadata": {},
     "output_type": "display_data"
    }
   ],
   "source": [
    "# Plot the distribution of node's degree\n",
    "metrics_handler.plot()"
   ]
  },
  {
   "cell_type": "code",
   "execution_count": 4,
   "id": "a47a5ca1-fca8-4871-b81a-a4e74e91cfe1",
   "metadata": {},
   "outputs": [
    {
     "name": "stdout",
     "output_type": "stream",
     "text": [
      "{<subway.structures.station.Station object at 0x0000017B332C2790>: [(<subway.structures.station.Station object at 0x0000017B332C26A0>, <subway.structures.line.Line object at 0x0000017B331F2B20>), (<subway.structures.station.Station object at 0x0000017B332C2040>, <subway.structures.line.Line object at 0x0000017B331F2B20>)], <subway.structures.station.Station object at 0x0000017B332C2A30>: [(<subway.structures.station.Station object at 0x0000017B332C26A0>, <subway.structures.line.Line object at 0x0000017B332C2910>)], <subway.structures.station.Station object at 0x0000017B332C26A0>: [(<subway.structures.station.Station object at 0x0000017B332C2190>, <subway.structures.line.Line object at 0x0000017B331F2CA0>)], <subway.structures.station.Station object at 0x0000017B332C2190>: [], <subway.structures.station.Station object at 0x0000017B332C2430>: [(<subway.structures.station.Station object at 0x0000017B332C2190>, <subway.structures.line.Line object at 0x0000017B331F2CA0>)], <subway.structures.station.Station object at 0x0000017B332C2D30>: [(<subway.structures.station.Station object at 0x0000017B332C2190>, <subway.structures.line.Line object at 0x0000017B331F2A60>)], <subway.structures.station.Station object at 0x0000017B332C2040>: [(<subway.structures.station.Station object at 0x0000017B332C26A0>, <subway.structures.line.Line object at 0x0000017B331F26D0>)], <subway.structures.station.Station object at 0x0000017B331F2F10>: [(<subway.structures.station.Station object at 0x0000017B331F2FD0>, <subway.structures.line.Line object at 0x0000017B332C2910>)], <subway.structures.station.Station object at 0x0000017B331F2FD0>: [(<subway.structures.station.Station object at 0x0000017B332C2A30>, <subway.structures.line.Line object at 0x0000017B332C2910>)]}\n",
      "\n",
      "4  - via line5 - 3 - via line1 - 2 - via line1 - 9 - via line1 - 8\n",
      "Transfer times: 1  -  Travel time: 8\n",
      "\n",
      "\n",
      "\n",
      "4  - via line5 - 3 - via line1 - 2 - via line1 - 9 - via line1 - 8\n",
      "Transfer times: 1  -  Travel time: 8\n",
      "\n"
     ]
    }
   ],
   "source": [
    "from subway.shortestPath.adjList import AdjList\n",
    "from subway.shortestPath.dijkstra import Dijkstra\n",
    "from subway.shortestPath.aStar import Astar\n",
    "from subway.shortestPath.pathGenerator import PathGenerator\n",
    "\n",
    "adjList = AdjList(connections)\n",
    "# start = stations[3]\n",
    "# end = stations[7]\n",
    "start = stations[3]\n",
    "end = stations[7]\n",
    "\n",
    "dijkstra_algo = Dijkstra(adjList, stations, start, end)\n",
    "astar_algo = Astar(adjList, stations, start, end)\n",
    "path_gen = PathGenerator()\n",
    "# edgeTo, expanding_count = dijkstra_algo.findShortestPath()\n",
    "edgeTo = astar_algo.findShortestPath()\n",
    "\n",
    "print(edgeTo)\n",
    "\n",
    "paths = path_gen.generatePath(edgeTo, start, end, connections)\n",
    "print()\n",
    "for path in paths:\n",
    "    path.printItinerary()\n",
    "    \n",
    "print('\\n')\n",
    "path_gen.pickTopInitinerary().printItinerary()\n",
    "\n",
    "# print(f'Ratio used/explored: {path_gen.countStations()/expanding_count}')"
   ]
  },
  {
   "cell_type": "code",
   "execution_count": 5,
   "id": "5b3dc22d-0a56-4da7-85c2-353da885a519",
   "metadata": {},
   "outputs": [
    {
     "ename": "ValueError",
     "evalue": "too many values to unpack (expected 2)",
     "output_type": "error",
     "traceback": [
      "\u001b[1;31m---------------------------------------------------------------------------\u001b[0m",
      "\u001b[1;31mValueError\u001b[0m                                Traceback (most recent call last)",
      "Cell \u001b[1;32mIn [5], line 24\u001b[0m\n\u001b[0;32m     22\u001b[0m path_gen \u001b[38;5;241m=\u001b[39m PathGenerator()\n\u001b[0;32m     23\u001b[0m \u001b[38;5;66;03m# edgeTo, expanding_count = dijkstra_algo.findShortestPath()\u001b[39;00m\n\u001b[1;32m---> 24\u001b[0m edgeTo, expanding_count \u001b[38;5;241m=\u001b[39m astar_algo\u001b[38;5;241m.\u001b[39mfindShortestPath()\n\u001b[0;32m     26\u001b[0m paths \u001b[38;5;241m=\u001b[39m path_gen\u001b[38;5;241m.\u001b[39mgeneratePath(edgeTo, start, end, connections)\n\u001b[0;32m     27\u001b[0m \u001b[38;5;28mprint\u001b[39m()\n",
      "\u001b[1;31mValueError\u001b[0m: too many values to unpack (expected 2)"
     ]
    }
   ],
   "source": [
    "# testing block\n",
    "from subway.utils.randomGen import RandomGenerator\n",
    "\n",
    "random_gen = RandomGenerator(100, 10, 0.1)\n",
    "stations = random_gen.s_list\n",
    "lines = random_gen.l_list\n",
    "connections = random_gen.c_list\n",
    "\n",
    "from subway.shortestPath.adjList import AdjList\n",
    "from subway.shortestPath.dijkstra import Dijkstra\n",
    "from subway.shortestPath.aStar import Astar\n",
    "from subway.shortestPath.pathGenerator import PathGenerator\n",
    "\n",
    "adjList = AdjList(connections)\n",
    "# start = stations[3]\n",
    "# end = stations[7]\n",
    "start = stations[3]\n",
    "end = stations[50]\n",
    "\n",
    "dijkstra_algo = Dijkstra(adjList, stations, start, end)\n",
    "astar_algo = Astar(adjList, stations, start, end)\n",
    "path_gen = PathGenerator()\n",
    "# edgeTo, expanding_count = dijkstra_algo.findShortestPath()\n",
    "edgeTo, expanding_count = astar_algo.findShortestPath()\n",
    "\n",
    "paths = path_gen.generatePath(edgeTo, start, end, connections)\n",
    "print()\n",
    "for path in paths:\n",
    "    path.printItinerary()\n",
    "\n",
    "print('\\n')\n",
    "path_gen.pickTopInitinerary().printItinerary()\n",
    "\n",
    "print(f'Ratio used/explored: {path_gen.countStations()/expanding_count}')"
   ]
  },
  {
   "cell_type": "markdown",
   "id": "8628675d-2956-4782-aa8e-25dacf0fa94e",
   "metadata": {},
   "source": [
    "## KPIs to measure\n",
    "We want something that can be quantified to measure the performance of Dijkstra and A* algorithms\n",
    "1. Execution time\n",
    "2. Number of unused stations explored\n",
    "3. Growth of execution time with respect to growth of distance from start station to end station (somewhat similar to number of stations)\n",
    "4. Ratio of acceptable result and total number of results generated\n",
    "\n"
   ]
  },
  {
   "cell_type": "markdown",
   "id": "9851b53c-6952-4400-9027-682a5bcab0f9",
   "metadata": {},
   "source": [
    "![UML Diagram](lab1_UML.png)"
   ]
  },
  {
   "cell_type": "markdown",
   "id": "cf9a03ae-35c0-45bd-97df-25030d8d670b",
   "metadata": {},
   "source": [
    "## Design Choices"
   ]
  }
 ],
 "metadata": {
  "kernelspec": {
   "display_name": "Python 3 (ipykernel)",
   "language": "python",
   "name": "python3"
  },
  "language_info": {
   "codemirror_mode": {
    "name": "ipython",
    "version": 3
   },
   "file_extension": ".py",
   "mimetype": "text/x-python",
   "name": "python",
   "nbconvert_exporter": "python",
   "pygments_lexer": "ipython3",
   "version": "3.9.1"
  }
 },
 "nbformat": 4,
 "nbformat_minor": 5
}
