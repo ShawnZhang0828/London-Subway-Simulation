{
 "cells": [
  {
   "cell_type": "markdown",
   "id": "2d65a8a5-860e-41d8-ac27-fabb65da8243",
   "metadata": {},
   "source": [
    "# Graph Lab"
   ]
  },
  {
   "cell_type": "markdown",
   "id": "0287692e-0294-4c54-8ad3-c8d8425ab85c",
   "metadata": {},
   "source": [
    "## Header information:\n",
    "\n",
    "  - Author #1: Wenyu Yin (yinw7@mcmaster.ca)\n",
    "  - Author #2: Xiang Zhang (zhanx326@mcmaster.ca)\n",
    "  - Gitlab URL: https://gitlab.cas.mcmaster.ca/zhanx326/l1-graph-lab.git\n",
    "  - Avenue to Learn group name: Group 30"
   ]
  },
  {
   "cell_type": "code",
   "execution_count": 1,
   "id": "d930eca9-bac7-44ed-b626-037b948c8a9b",
   "metadata": {},
   "outputs": [],
   "source": [
    "# Load graph data in csv\n",
    "from subway.utils.dataLoader import DataLoader\n",
    "\n",
    "# data_loader = DataLoader('_dataset/london.stations - Test.csv', '_dataset/london.lines - Test.csv', '_dataset/london.connections - Test.csv')\n",
    "data_loader = DataLoader('_dataset/london.stations.csv', '_dataset/london.lines.csv', '_dataset/london.connections.csv')\n",
    "\n",
    "stations = data_loader.loadStation()\n",
    "lines = data_loader.loadLine()\n",
    "connections = data_loader.loadConnections(stations, lines)"
   ]
  },
  {
   "cell_type": "code",
   "execution_count": 2,
   "id": "86d14c15-a664-43ce-a46a-a68cab6e5425",
   "metadata": {},
   "outputs": [
    {
     "name": "stdout",
     "output_type": "stream",
     "text": [
      "Number of nodes: 302\n",
      "Number of edges: 406\n",
      "Average degree of the nodes: 2.69\n"
     ]
    }
   ],
   "source": [
    "# Compute the metrics\n",
    "from subway.utils.metricsHandler import MetricsHandler\n",
    "\n",
    "metrics_handler = MetricsHandler(stations, lines, connections)\n",
    "\n",
    "print(f\"Number of nodes: {metrics_handler.computeNodeNum()}\")\n",
    "print(f\"Number of edges: {metrics_handler.computeEdgeNum()}\")\n",
    "print(f\"Average degree of the nodes: {metrics_handler.computeAvgDeg():.2f}\")"
   ]
  },
  {
   "cell_type": "code",
   "execution_count": 3,
   "id": "016739ac-262f-44e9-ab18-aaae2ee4963d",
   "metadata": {},
   "outputs": [
    {
     "data": {
      "image/png": "[encoded data removed]",
      "text/plain": [
       "<Figure size 640x480 with 1 Axes>"
      ]
     },
     "metadata": {},
     "output_type": "display_data"
    }
   ],
   "source": [
    "# Plot the distribution of node's degree\n",
    "metrics_handler.plot()"
   ]
  },
  {
   "cell_type": "code",
   "execution_count": 4,
   "id": "a47a5ca1-fca8-4871-b81a-a4e74e91cfe1",
   "metadata": {},
   "outputs": [
    {
     "name": "stdout",
     "output_type": "stream",
     "text": [
      "Last element has been popped.\n",
      "\n",
      "4  - via line13 - 201 - via line13 - 284 - via line13 - 155 - via line13 - 225 - via line13 - 13 - via line12 - 279 - via line7 - 285 - via line3 - 248 - via line3 - 273 - via line3 - 229 - via line3 - 236 - via line3 - 99 - via line4 - 74 - via line10 - 17 - via line4 - 110 - via line10 - 265 - via line10 - 1 - via line10 - 234 - via line10 - 176 - via line10 - 30 - via line10 - 190 - via line10 - 131 - via line10 - 130 - via line10 - 132 - via line10 - 116 - via line10 - 118\n",
      "Transfer times: 7  -  Travel time: 60\n",
      "\n",
      "4  - via line13 - 201 - via line13 - 284 - via line13 - 155 - via line13 - 225 - via line13 - 13 - via line12 - 279 - via line7 - 285 - via line3 - 248 - via line3 - 273 - via line3 - 229 - via line3 - 236 - via line3 - 99 - via line10 - 74 - via line10 - 17 - via line4 - 110 - via line10 - 265 - via line10 - 1 - via line10 - 234 - via line10 - 176 - via line10 - 30 - via line10 - 190 - via line10 - 131 - via line10 - 130 - via line10 - 132 - via line10 - 116 - via line10 - 118\n",
      "Transfer times: 6  -  Travel time: 59\n",
      "\n"
     ]
    }
   ],
   "source": [
    "from subway.shortestPath.adjList import AdjList\n",
    "from subway.shortestPath.dijkstra import Dijkstra\n",
    "from subway.shortestPath.aStar import Astar\n",
    "from subway.shortestPath.pathGenerator import PathGenerator\n",
    "\n",
    "adjList = AdjList(connections)\n",
    "# start = stations[3]\n",
    "# end = stations[7]\n",
    "start = stations[3]\n",
    "end = stations[100]\n",
    "\n",
    "dijkstra_algo = Dijkstra(adjList, stations, start, end)\n",
    "astar_algo = Astar(adjList, stations, start, end)\n",
    "path_gen = PathGenerator()\n",
    "edgeTo = dijkstra_algo.findShortestPath()\n",
    "# edgeTo = astar_algo.findShortestPath()\n",
    "\n",
    "paths = path_gen.generatePath(edgeTo, start, end, connections)\n",
    "print()\n",
    "for path in paths:\n",
    "    path.printItinerary()"
   ]
  },
  {
   "cell_type": "code",
   "execution_count": null,
   "id": "a01a5d6a-53d7-4268-bf35-101d618445b6",
   "metadata": {},
   "outputs": [],
   "source": []
  }
 ],
 "metadata": {
  "kernelspec": {
   "display_name": "Python 3 (ipykernel)",
   "language": "python",
   "name": "python3"
  },
  "language_info": {
   "codemirror_mode": {
    "name": "ipython",
    "version": 3
   },
   "file_extension": ".py",
   "mimetype": "text/x-python",
   "name": "python",
   "nbconvert_exporter": "python",
   "pygments_lexer": "ipython3",
   "version": "3.9.1"
  }
 },
 "nbformat": 4,
 "nbformat_minor": 5
}
