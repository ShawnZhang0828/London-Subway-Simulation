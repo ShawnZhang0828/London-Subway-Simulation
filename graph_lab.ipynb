{
 "cells": [
  {
   "cell_type": "markdown",
   "id": "2d65a8a5-860e-41d8-ac27-fabb65da8243",
   "metadata": {},
   "source": [
    "# Graph Lab"
   ]
  },
  {
   "cell_type": "markdown",
   "id": "0287692e-0294-4c54-8ad3-c8d8425ab85c",
   "metadata": {
    "tags": []
   },
   "source": [
    "## Header information:\n",
    "\n",
    "  - Author #1: Wenyu Yin (yinw7@mcmaster.ca)\n",
    "  - Author #2: Xiang Zhang (zhanx326@mcmaster.ca)\n",
    "  - Gitlab URL: https://gitlab.cas.mcmaster.ca/zhanx326/l1-graph-lab.git\n",
    "  - Avenue to Learn group name: Group 30"
   ]
  },
  {
   "cell_type": "markdown",
   "id": "b8d8066d-5a6a-45ea-9b15-99b7f2a4eba3",
   "metadata": {},
   "source": [
    "## <b>!!!</b> Run the cell below before running other cells"
   ]
  },
  {
   "cell_type": "code",
   "execution_count": 1,
   "id": "57db6b99-2fac-44b6-8000-a5e13e85a29f",
   "metadata": {},
   "outputs": [],
   "source": [
    "import sys\n",
    "path = sys.path[0]\n",
    "sys.path.append(path + \"\\\\subway\\\\structures\")\n",
    "sys.path.append(path + \"\\\\subway\\\\shortestPath\")\n",
    "sys.path.append(path + \"\\\\subway\\\\utils\")\n",
    "sys.path.append(path + \"\\\\subway\\\\patrolPlanning\")\n",
    "sys.path.append(path + \"\\\\subway\\\\island\")"
   ]
  },
  {
   "cell_type": "markdown",
   "id": "de8c94d5-c6e4-467c-8148-c6ac1bd7b6f4",
   "metadata": {},
   "source": [
    "# Week 1"
   ]
  },
  {
   "cell_type": "markdown",
   "id": "21b042f6-a105-49e9-b0f6-c1cf75251f16",
   "metadata": {},
   "source": [
    "## Load Information from csv Files"
   ]
  },
  {
   "cell_type": "code",
   "execution_count": 2,
   "id": "d930eca9-bac7-44ed-b626-037b948c8a9b",
   "metadata": {},
   "outputs": [],
   "source": [
    "# Load graph data in csv\n",
    "from dataLoader import DataLoader\n",
    "\n",
    "# The original data loader loads the initial version of the london subway system, and the other two are defined for testing purposes\n",
    "data_loader_patrol = DataLoader('_dataset/london.stations - Test.csv', '_dataset/london.lines - Test.csv', '_dataset/london.connections - Test.csv')\n",
    "data_loader_original = DataLoader('_dataset/london.stations.csv', '_dataset/london.lines.csv', '_dataset/london.connections.csv')\n",
    "data_loader_island = DataLoader('_dataset/london.stations - Island.csv', '_dataset/london.lines - Island.csv', '_dataset/london.connections - Island.csv')\n",
    "\n",
    "# Load data from .csv files\n",
    "stations = data_loader_original.loadStation()\n",
    "lines = data_loader_original.loadLine()\n",
    "connections = data_loader_original.loadConnections(stations, lines)\n",
    "\n",
    "stations_patrol = data_loader_patrol.loadStation()\n",
    "lines_patrol = data_loader_patrol.loadLine()\n",
    "connections_patrol = data_loader_patrol.loadConnections(stations_patrol, lines_patrol)"
   ]
  },
  {
   "cell_type": "markdown",
   "id": "7062b187-7ad8-41ff-b9ef-dea60c67c496",
   "metadata": {},
   "source": [
    "### Decisions and Justifications   \n",
    "  \n",
    "We use a DataLoader object to load .csv file data, generate Station, Line, Connection objects, and store them in separate unordered lists. Some specific decisions made in this process are:  \n",
    "  \n",
    "1. Store station and line <b>instances</b> in every Connection object rather than their ids.  \n",
    "    - Create a stable reference between connections and stations/lines involved in them. Since ids are plain numbers, stations and lines IDs can easily be mixed up with the list index and other integers involved.  \n",
    "  <br>\n",
    "2. Use a list to store all stations, lines, and connections.   \n",
    "    - We attempted to sort the stations by their IDs before adding them to a list and using their IDs as indices to refer to them later on. Still, considering that station ids may not be consecutive (e.g., no station 189 in the given .csv file), we decided to put them in an unordered list to save time generating the ordered list and avoid subsequent accessing issues.  \n",
    "  <br>\n",
    "3. Use seperate classes to represent various structures  \n",
    "    - For the purpose of single responsibility, we defined several classes to represent various subway structures (i.e., Station, Line, and Connections). In this way, not only can we \"use\" Station and Line objects in the Connection class to specifically refer to the corresponding structure, but also, there is no interference between different structures (i.e., Stations, Lines, and Connections are independent of each other).  "
   ]
  },
  {
   "cell_type": "markdown",
   "id": "62a49976-0ca6-4dfe-9768-576a58953681",
   "metadata": {},
   "source": [
    "## Compute and Plot Graph Metrics"
   ]
  },
  {
   "cell_type": "code",
   "execution_count": 3,
   "id": "86d14c15-a664-43ce-a46a-a68cab6e5425",
   "metadata": {},
   "outputs": [
    {
     "name": "stdout",
     "output_type": "stream",
     "text": [
      "Number of nodes: 302\n",
      "Number of edges: 406\n",
      "Average degree of the nodes: 2.69\n"
     ]
    }
   ],
   "source": [
    "# Compute the metrics\n",
    "from metricsHandler import MetricsHandler\n",
    "\n",
    "metrics_handler = MetricsHandler(stations, lines, connections)\n",
    "\n",
    "print(f\"Number of nodes: {metrics_handler.computeNodeNum()}\")\n",
    "print(f\"Number of edges: {metrics_handler.computeEdgeNum()}\")\n",
    "print(f\"Average degree of the nodes: {metrics_handler.computeAvgDeg():.2f}\")"
   ]
  },
  {
   "cell_type": "code",
   "execution_count": 4,
   "id": "016739ac-262f-44e9-ab18-aaae2ee4963d",
   "metadata": {},
   "outputs": [
    {
     "data": {
      "image/png": "[encoded data removed]",
      "text/plain": [
       "<Figure size 640x480 with 1 Axes>"
      ]
     },
     "metadata": {},
     "output_type": "display_data"
    }
   ],
   "source": [
    "# Plot the distribution of node's degree\n",
    "metrics_handler.plot()"
   ]
  },
  {
   "cell_type": "markdown",
   "id": "383113c4-1733-433b-b6ee-5e1159ba4346",
   "metadata": {},
   "source": [
    "## Calculate Heuristic Factor"
   ]
  },
  {
   "cell_type": "code",
   "execution_count": 5,
   "id": "853e7789-b927-4cb6-bfb1-2d9718a6259a",
   "metadata": {},
   "outputs": [],
   "source": [
    "# from math import sqrt, pow\n",
    "\n",
    "# heuristic_fct = 0\n",
    "# heuristic_fcts = []\n",
    "\n",
    "# for c in connections:\n",
    "#     x1 = c.s1.lat\n",
    "#     y1 = c.s1.lon\n",
    "#     x2 = c.s2.lat\n",
    "#     y2 = c.s2.lon\n",
    "#     heuristic_fcts.append(c.time / sqrt(pow(x1 - x2, 2) + pow(y1 - y2, 2)))\n",
    "\n",
    "# print(sum(heuristic_fcts) / len(heuristic_fcts))"
   ]
  },
  {
   "cell_type": "markdown",
   "id": "541c8e7d-6061-4b89-bbd4-51913e3bcdc2",
   "metadata": {},
   "source": [
    "## Run and Evaluate Dijkstra and A\\* Algorithms"
   ]
  },
  {
   "cell_type": "code",
   "execution_count": 6,
   "id": "a47a5ca1-fca8-4871-b81a-a4e74e91cfe1",
   "metadata": {},
   "outputs": [
    {
     "name": "stdout",
     "output_type": "stream",
     "text": [
      "=================== All path generated by DIJKSTRA ALGORITHM ===================\n",
      "↓ Route No.1 ↓\n",
      "197  - via line10 - 151 - via line9 - 259 - via line2 - 126 - via line2 - 48 - via line2 - 250\n",
      "Transfer times: 2  -  Travel time: 8\n",
      "\n",
      "↓ Route No.2 ↓\n",
      "197  - via line10 - 151 - via line10 - 60 - via line10 - 126 - via line2 - 48 - via line2 - 250\n",
      "Transfer times: 1  -  Travel time: 7\n",
      "\n",
      "=================== Top route decided ===================\n",
      "197  - via line10 - 151 - via line10 - 60 - via line10 - 126 - via line2 - 48 - via line2 - 250\n",
      "Transfer times: 1  -  Travel time: 7\n",
      "\n",
      "Ratio used/explored for Dijkstra: 0.006993006993006993\n",
      "\n",
      "=================== THE BEST Path generated by A* ALGORITHM ===================\n",
      "197  - via line10 - 151 - via line10 - 60 - via line10 - 126 - via line2 - 48 - via line2 - 250\n",
      "Transfer times: 1  -  Travel time: 7\n",
      "\n",
      "Ratio used/explored for A*: 0.2\n"
     ]
    }
   ],
   "source": [
    "from adjList import AdjList\n",
    "from dijkstra import Dijkstra\n",
    "from AStar import Astar\n",
    "from pathGenerator import PathGenerator\n",
    "\n",
    "adjList = AdjList(connections)\n",
    "\n",
    "# ========= Multiple test cases =========\n",
    "# start = stations[9]\n",
    "# end = stations[246]\n",
    "\n",
    "start = stations[171]\n",
    "end = stations[219]\n",
    "\n",
    "# ========= Use the following to find path between two stations with specific IDs ========= \n",
    "# start = next((station for station in stations if station.id == 141), None)\n",
    "# end = next((station for station in stations if station.id == 77), None)\n",
    "\n",
    "\n",
    "'''\n",
    "    Running Dijkstra algorithm to find the shortest path\n",
    "'''\n",
    "dijkstra_algo = Dijkstra(adjList, stations, connections, start, end)\n",
    "path_gen = PathGenerator()\n",
    "edgeTo, expanding_count = dijkstra_algo.findShortestPath()\n",
    "paths = path_gen.generatePath(edgeTo, start, end, connections)\n",
    "print(\"=================== All path generated by DIJKSTRA ALGORITHM ===================\")\n",
    "for i, path in enumerate(paths):\n",
    "    print(f\"↓ Route No.{i+1} ↓\")\n",
    "    path.printItinerary()\n",
    "    \n",
    "print('=================== Top route decided ===================')\n",
    "path_gen.pickTopInitinerary().printItinerary()\n",
    "\n",
    "print(f'Ratio used/explored for Dijkstra: {path_gen.countStations()/expanding_count}')\n",
    "\n",
    "'''\n",
    "    Running A* algorithm to find the shortest path\n",
    "'''\n",
    "\n",
    "astar_algo = Astar(adjList, stations, connections, start, end)\n",
    "path_gen = PathGenerator()\n",
    "edgeTo, expanding_count = astar_algo.findShortestPath()\n",
    "\n",
    "paths = path_gen.generatePath(edgeTo, start, end, connections)\n",
    "print(\"\\n=================== THE BEST Path generated by A* ALGORITHM ===================\")\n",
    "paths[0].printItinerary()\n",
    "\n",
    "print(f'Ratio used/explored for A*: {path_gen.countStations()/expanding_count}')"
   ]
  },
  {
   "cell_type": "markdown",
   "id": "c547d863-91ad-4961-8355-79b80e289846",
   "metadata": {},
   "source": [
    "### Decisions and Justifications  \n",
    "  \n",
    "To find the shortest path from the start to the end station, we implement Dijkstra and A\\* algorithms. Some specific decisions made in this process are:  \n",
    "\n",
    "1. Use dictionary to represent the adjacency list   \n",
    "    - An adjacency list is utilized to compare the weight of each connection and obtain the connection's data during the algorithms. We chose to define this adjacency list using a 2-dimensional dictionary and each station object as the key, which is beneficial for <b>quickly collecting connection path weight</b> and other crucial data (e.g., the subway line in-between). The value of the dictionary contains a list of connection travel times and their accompanying lines. By only defining the two stations as the \"index\" for calculating distances and transferring connection information in algorithms, this design decision enables us to get the path data more quickly and conveniently.  \n",
    "    <br>\n",
    "2. Make A\\* and Dijkstra implement the abstract class (shortestPathAlgo)  \n",
    "    - Due to the similarities between the A\\* and Dijkstra algorithms (e.g., the use of the priority queue and the requirement of a start and finish station), we used an abstract class to define the classes that represent the two distinct algorithms, which <b>reduced their complexity and redundancy</b>. This choice also facilitates adding more algorithms to the system, effectively increasing the extensibility of our software.  \n",
    "    <br>\n",
    "3. Use class instances rather than station.id/line.id to index dictionaries for edgeTo and distTo  \n",
    "    - To store the station and associated data, we utilize two dictionaries, edgeTo and distTo (along with additional totalCost in A\\*). We decided to use concrete Station and Line objects to index relevant dictionaries. Using objects as indices <b>creates a very solid reference to dictionaries</b> despite the fact that using their ids may be an option (but integer ids may get confused with list indices and reduce the readability of our program).   \n",
    "    <br>\n",
    "4. Use of Prioritized Item  \n",
    "    - Priority Queues assist us in ordering the visited path according to the value in distTo so that we can cover more of the entire graph with the shortest-cost path in each iteration of the Dijkstra algorithm. This allows us to always locate the shortest path in the present. We use a Prioritized Item class to address the issue of running into stations with the same distTo value when pushing stations to the priority queue.  \n",
    "    - PriorityItem has the folllowing attributes and offers us a straightforward way of storing and accessing them.\n",
    "        - The distances from one station to the start point\n",
    "        - The station itself  \n",
    "    <br>\n",
    "5. Select between less travel time and less transfer time for Dijkstra  \n",
    "    - The \"weight\" of connections is the main factor in the original Dijkstra algorithm. We defined the values in edgeTo as a list that contains a set of the \"closest\" connections to the station and used DFS to identify all paths from start to finish within those connections, taking into account that customers could prefer a slightly longer trip with fewer transfers between lines. In order to select the best course of action from all possible options, we added up the travel time and transfer time for each path, then chose the one with the lowest amount out of all practicable options. Additionally, since longer transfer times frequently accompany longer travel times, it is appropriate to just add them together without producing considerable bias.   \n",
    "    <br>\n",
    "6. Use the physical distance as the heuristic for the A\\* algorithm  \n",
    "    - For the Dijkstra algorithm, we compute all pathways with comparable transfer time and travel time, and then, by comparing the total score for transfer time and travel time, we select the path with the best score. On the other hand, for the A\\* algorithm, we decided to use the physical distances as the supporting argument as opposed to transfer time, considering that A\\* is more efficient when it heads straight to the destination. Hence, taking transfer time into account is <b>unnecessary</b>. The A\\* algorithm wastes less time exploring stations that will not be used in the final path as well.  \n",
    "    <br>\n",
    "7. Use 192.127 as a factor in the heuristic function for A\\* algorithm  \n",
    "    - A heuristic function that normally determines the distance between the current station and the final station is necessary for the implementation of A\\*. This is done by applying Pythagoras' Theorem to determine the exact distance between two stations. The stations on our priority queue, however, are ordered according to their travel times (in minutes). In order for the heuristic function to be useful, a <b>conversion</b> from longitude and latitude to minute must be made. More details of how this number is obtains can be found above in Calculate Heuristic Factor section.  "
   ]
  },
  {
   "cell_type": "markdown",
   "id": "9851b53c-6952-4400-9027-682a5bcab0f9",
   "metadata": {},
   "source": [
    "## Week 1 Class Diagram\n",
    "<!-- ![UML Diagram](C:\\Study\\University\\Third_Year_Fall_Term\\SFWRENG 3XB3\\l1-graph-lab\\images\\Lab-1_UML_Week1.png) -->\n",
    "![UML Diagram](.\\images\\Lab-1_UML_Week1.png)"
   ]
  },
  {
   "cell_type": "markdown",
   "id": "8628675d-2956-4782-aa8e-25dacf0fa94e",
   "metadata": {},
   "source": [
    "## KPIs to measure  \n",
    "We want something that can be quantified to measure the performance of Dijkstra and A\\* algorithms  \n",
    "1. Execution time  \n",
    "2. Number of unused stations explored  \n",
    "3. Growth of execution time with respect to growth of distance from start station to end station (somewhat similar to number of stations)   \n",
    "4. Ratio of acceptable result and total number of results generated  "
   ]
  },
  {
   "cell_type": "markdown",
   "id": "21b930d3-b5a4-4967-9a1e-85997385038e",
   "metadata": {},
   "source": [
    "## Result and Analysis of Benchmark  \n",
    "### Execution time and its relationship with distance between two stations  \n",
    "<!-- ![distance vs. execution time](C:\\Study\\University\\Third_Year_Fall_Term\\SFWRENG 3XB3\\l1-graph-lab\\images\\dist-exec.png)   -->\n",
    "![distance vs. execution time](.\\images\\dist-exec.png)\n",
    "  \n",
    "- The average execution times of the two algorithms (running 200 times each) are roughly <i>0.001858 ms</i> and <i>0.003129 ms</i>, indicating that Dijkstra has a slower running time. To determine the shortest path, two techniques employ similar structures to compute and compare the travel costs of each connection. However, Dijkstra makes many visits to the same node to gather all the pertinent connections that account for transfer times, which increases the execution time. The heuristic function, on the other hand, calculates the physical distances between stations for A\\*, assisting the algorithm in locating the optimum path without stopping at pointless nodes. As a result, A\\* runs considerably quicker than Dijkstra.  \n",
    "  <br>\n",
    "- The graph illustrates how the general execution times of both algorithms <i>gradually grow as the distance increases</i>, taking into account the execution time variation dependent on the linear distance between the start and finish stations. Distance rising increases the number of nodes visited because the path can encompass more possibilities and connections. However, while being roughly twice as fast as A\\*, Dijkstra is still noticeably slower. <i>The execution times of the two algorithms diverge as the distance widens</i>.  \n",
    "  <br>\n",
    "  \n",
    "### Ratio of stations used in \"best\" paths to all stations explored by the algorithm\n",
    "<!-- ![distance vs. used ratio](C:\\Study\\University\\Third_Year_Fall_Term\\SFWRENG 3XB3\\l1-graph-lab\\images\\dist-ratio.png)    -->\n",
    "![distance vs. used ratio](.\\images\\dist-ratio.png)\n",
    "  \n",
    "- The A\\* algorithm, unlike Dijkstra, uses the heuristic function to help it go relatively quickly and directly towards its goal. As a result, the <i>A\\* algorithm saves time by spending less time examining edges that are too far from the present path than Dijkstra does</i>. Additionally, while Dijkstra requires generating all \"best\" paths so that we can compare the transfer times of paths, which prevents it from terminating immediately at the destination and results in a reduction in explored stations used ratio, the A\\* algorithm uses the physical distances between stations as a supporting argument for the \"shortest\" route and generates only one closest path.   \n",
    "  <br>\n",
    "- The outcome of this benchmark also explains why Dijkstra take longer to execute: Dijkstra spends more time doing searches on unused stations, but A\\* makes better use of its resources.   "
   ]
  },
  {
   "cell_type": "markdown",
   "id": "b1844b3c-b24e-4f20-9f70-68e87a43b0e9",
   "metadata": {},
   "source": [
    "## Work Split\n",
    "The group's workload is evenly split, and we typically complete the coding tasks together. Below is a list indicates how classes implemented individually. One person checks and polishes each area individually, and all programmes' integrity is guaranteed collectively.  \n",
    "\n",
    "#### Wenyu Yin  \n",
    "1. dijkstra\n",
    "2. line, connection\n",
    "3. metricsHandler\n",
    "  \n",
    "#### Xiang Zhang  \n",
    "1. astar\n",
    "2. station, itinerary\n",
    "3. dataLoader  "
   ]
  },
  {
   "cell_type": "markdown",
   "id": "b75b7d12-8bd9-4038-9815-65ae26f3d868",
   "metadata": {},
   "source": [
    "# Week 2"
   ]
  },
  {
   "cell_type": "markdown",
   "id": "750f8c97-6450-45e8-9607-025842fd07cf",
   "metadata": {},
   "source": [
    "## Patrol Planning"
   ]
  },
  {
   "cell_type": "markdown",
   "id": "98211a8b-f7bc-4b33-b6bd-83f33ad6dd80",
   "metadata": {},
   "source": [
    "We created a graph specifically for the purpose of this session. Detailed data can be found in _dataset folder, and a visualization of the graph is shown below.  \n",
    "<!-- ![Islands Testing Image](C:\\Study\\University\\Third_Year_Fall_Term\\SFWRENG 3XB3\\l1-graph-lab\\images\\tsp_test_graph.jpg) -->\n",
    "![Islands Testing Image](.\\images\\tsp_test_graph.jpg)"
   ]
  },
  {
   "cell_type": "code",
   "execution_count": 7,
   "id": "8a6d228c-9d77-4e9c-a8f0-0ce84aec7b65",
   "metadata": {},
   "outputs": [
    {
     "name": "stdout",
     "output_type": "stream",
     "text": [
      "Running the brute-fore algorithms takes 0.043999671936035156\n",
      "Shortest Distance Travelled: 15\n",
      "2 -> 5 -> 6 -> 4 -> 3 -> 7 -> 1 -> 8 -> 9 -> 2\n"
     ]
    }
   ],
   "source": [
    "from TSPAlgo import TSP\n",
    "from adjList import AdjList\n",
    "import time\n",
    "\n",
    "adjList_patrol = AdjList(connections_patrol)\n",
    "tsp = TSP(adjList_patrol, stations_patrol[1], [stations_patrol[3], stations_patrol[2], stations_patrol[6], stations_patrol[0], stations_patrol[1],\n",
    "                                    stations_patrol[4], stations_patrol[5], stations_patrol[7], stations_patrol[8]])\n",
    "\n",
    "begin = time.time()\n",
    "tsp.travellingSalesmanProblem()\n",
    "print(f'Running the brute-fore algorithms takes {time.time() - begin}')\n",
    "\n",
    "print(f'Shortest Distance Travelled: {tsp.min_path}')\n",
    "tsp.printShortestPath()"
   ]
  },
  {
   "cell_type": "markdown",
   "id": "5e9c11dd-5706-4553-a4d2-5c344ef17bd8",
   "metadata": {},
   "source": [
    "### Decisions and Justifications  \n",
    "\n",
    "1. Use brute-force algorithm rather than dynamic programming\n",
    "    - Brute-force is more <b>intuitive and readable</b>. Although it is less efficient than dynamic programming, it is more reliable as it considers all the possibilities. In terms of the drawback in the runtime of this algorithm, refer to the TSP section in Analysis of Algorithm Performances.  \n",
    "  <br>\n",
    "2. Do not take the line number into account when generating the route\n",
    "    - We assume that all direct connections between two stations are the same regardless of the line number considering all connections share the same travel time. Hence taking different lines in this route does not make a difference."
   ]
  },
  {
   "cell_type": "markdown",
   "id": "2ffd0644-cbd1-4a85-a2bb-4dacfbc5d994",
   "metadata": {},
   "source": [
    "## Find Islands and Their Connections"
   ]
  },
  {
   "cell_type": "markdown",
   "id": "52f7647d-d5a0-4185-9521-fd8e0aa21b52",
   "metadata": {},
   "source": [
    "We created a graph specifically for the purpose of this session. Detailed data can be found in \\_dataset folder, and a visualization of the graph is shown below.  \n",
    "<!-- ![Islands Testing Image](C:\\Study\\University\\Third_Year_Fall_Term\\SFWRENG 3XB3\\l1-graph-lab\\images\\island_test_graph.jpg) -->\n",
    "![Islands Testing Image](.\\images\\island_test_graph.jpg)"
   ]
  },
  {
   "cell_type": "code",
   "execution_count": 8,
   "id": "d71fc7f9-96ca-44b2-982f-ef072f51d766",
   "metadata": {},
   "outputs": [
    {
     "name": "stdout",
     "output_type": "stream",
     "text": [
      "Finding all islands takes 0.002003908157348633\n",
      "\n",
      "In zone3, the islands are the following: \n",
      "--------------------------\n",
      "Island1 contains station(s): 1, 52, 265, 108, 141, 73, 72, 286, 181, 112, 182, 194, 234, 176\n",
      "--------------------------\n",
      "Island2 contains station(s): 8, 124, 77\n",
      "--------------------------\n",
      "Island3 contains station(s): 12, 56, 257, 258, 59, 240\n",
      "--------------------------\n",
      "Island4 contains station(s): 19, 97, 65, 20, 217, 203, 63, 219, 43, 79, 183, 289, 36, 200, 270, 78, 247, 153, 154, 204\n",
      "--------------------------\n",
      "Island5 contains station(s): 26, 260, 224, 274\n",
      "--------------------------\n",
      "Island6 contains station(s): 31, 303, 266, 160\n",
      "--------------------------\n",
      "Island7 contains station(s): 34, 100, 111, 119\n",
      "--------------------------\n",
      "Island8 contains station(s): 71, 172, 297\n",
      "--------------------------\n",
      "Island9 contains station(s): 80, 231, 300, 299\n",
      "--------------------------\n",
      "Island10 contains station(s): 113, 246, 298\n",
      "--------------------------\n",
      "Island11 contains station(s): 64, 106, 69, 86, 152\n",
      "\n",
      "In zone1, the islands are the following: \n",
      "--------------------------\n",
      "Island1 contains station(s): 2, 156, 13, 250, 48, 126, 259, 192, 197, 49, 87, 279, 148, 84, 29, 157, 233, 285, 248, 273, 229, 236, 99, 122, 186, 208, 149, 162, 28, 11, 163, 82, 193, 18, 83, 212, 104, 90, 145, 92, 14, 167, 188, 7, 89, 277, 102, 223, 107, 133, 146, 74, 198, 272, 255, 25, 161, 44, 166, 263, 3, 151, 60\n",
      "--------------------------\n",
      "Island2 contains station(s): 262\n",
      "\n",
      "In zone2, the islands are the following: \n",
      "--------------------------\n",
      "Island1 contains station(s): 4, 70, 32, 204, 201, 27, 79, 284, 155, 225, 276, 216, 41, 253, 174, 175, 23, 42, 120, 238, 61, 171, 135, 64, 106, 69, 86, 152, 292, 183, 295, 244, 164, 24, 33, 36, 228\n",
      "--------------------------\n",
      "Island2 contains station(s): 8, 264, 139, 40, 47, 22, 111, 170\n",
      "--------------------------\n",
      "Island3 contains station(s): 10, 95, 160, 123, 128, 39\n",
      "--------------------------\n",
      "Island4 contains station(s): 17, 110, 209, 242, 265, 101, 227, 150, 147, 283, 218, 293, 74, 138, 287, 96, 195, 205, 80\n",
      "--------------------------\n",
      "Island5 contains station(s): 54, 55, 245, 191, 136, 84, 35, 272, 56\n",
      "--------------------------\n",
      "Island6 contains station(s): 76, 181, 296, 226, 127, 186\n",
      "--------------------------\n",
      "Island7 contains station(s): 94, 254, 249, 290, 142, 297\n",
      "--------------------------\n",
      "Island8 contains station(s): 137, 206, 143, 159, 278\n",
      "\n",
      "In zone4, the islands are the following: \n",
      "--------------------------\n",
      "Island1 contains station(s): 5, 252, 251\n",
      "--------------------------\n",
      "Island2 contains station(s): 9, 31, 232\n",
      "--------------------------\n",
      "Island3 contains station(s): 15, 78, 269\n",
      "--------------------------\n",
      "Island4 contains station(s): 30, 190, 131, 130\n",
      "--------------------------\n",
      "Island5 contains station(s): 38, 58, 119\n",
      "--------------------------\n",
      "Island6 contains station(s): 93, 165, 288, 302, 261\n",
      "--------------------------\n",
      "Island7 contains station(s): 98, 173, 211, 275, 154, 230, 241, 301\n",
      "--------------------------\n",
      "Island8 contains station(s): 105, 196\n",
      "--------------------------\n",
      "Island9 contains station(s): 140, 237, 185, 281\n",
      "--------------------------\n",
      "Island10 contains station(s): 141, 213\n",
      "--------------------------\n",
      "Island11 contains station(s): 144, 207, 282, 202, 178\n",
      "--------------------------\n",
      "Island12 contains station(s): 169, 240\n",
      "\n",
      "In zone5, the islands are the following: \n",
      "--------------------------\n",
      "Island1 contains station(s): 16, 91, 109, 103, 51, 215\n",
      "--------------------------\n",
      "Island2 contains station(s): 21, 67, 66\n",
      "--------------------------\n",
      "Island3 contains station(s): 45, 243\n",
      "--------------------------\n",
      "Island4 contains station(s): 75, 210, 291, 115, 184, 199, 235\n",
      "--------------------------\n",
      "Island5 contains station(s): 81\n",
      "--------------------------\n",
      "Island6 contains station(s): 114\n",
      "--------------------------\n",
      "Island7 contains station(s): 116, 132\n",
      "--------------------------\n",
      "Island8 contains station(s): 177, 239, 221\n",
      "--------------------------\n",
      "Island9 contains station(s): 121\n",
      "--------------------------\n",
      "Island10 contains station(s): 57, 187\n",
      "--------------------------\n",
      "Island11 contains station(s): 37\n",
      "\n",
      "In zone6, the islands are the following: \n",
      "--------------------------\n",
      "Island1 contains station(s): 85, 129, 268, 267\n",
      "--------------------------\n",
      "Island2 contains station(s): 116, 117, 118\n",
      "--------------------------\n",
      "Island3 contains station(s): 125, 134, 220, 222, 271\n",
      "--------------------------\n",
      "Island4 contains station(s): 168, 179, 180\n",
      "--------------------------\n",
      "Island5 contains station(s): 294\n",
      "--------------------------\n",
      "Island6 contains station(s): 88, 256, 68, 158\n",
      "\n",
      "In zone7, the islands are the following: \n",
      "--------------------------\n",
      "Island1 contains station(s): 168, 62, 214\n",
      "\n",
      "In zone10, the islands are the following: \n",
      "--------------------------\n",
      "Island1 contains station(s): 6\n",
      "--------------------------\n",
      "Island2 contains station(s): 50\n",
      "\n",
      "In zone9, the islands are the following: \n",
      "--------------------------\n",
      "Island1 contains station(s): 46\n",
      "\n",
      "In zone8, the islands are the following: \n",
      "--------------------------\n",
      "Island1 contains station(s): 53\n",
      "--------------------------\n",
      "Island2 contains station(s): 280\n",
      "\n",
      "Find connections between islands in zone3.\n",
      "Station1 is in island: [1, 52, 265, 108, 141, 73, 72, 286, 181, 112, 182, 194, 234, 176]\n",
      "Station8 is in island: [8, 124, 77]\n",
      "\n",
      "265  - via line10 - 110 - via line4 - 17 - via line10 - 74 - via line10 - 99 - via line3 - 236 - via line3 - 229 - via line3 - 273 - via line11 - 107 - via line11 - 192 - via line11 - 277 - via line9 - 89 - via line9 - 40 - via line9 - 139 - via line9 - 264 - via line9 - 8\n",
      "The path goes through zones in the following order: [2.5, 2.0, 1.5, 1.0, 2.5]\n",
      "Finding connections between islands takes 0.04799652099609375\n",
      "\n",
      " \n",
      "\n",
      "Finding all islands takes 0.0\n",
      "\n",
      "In zone1, the islands are the following: \n",
      "--------------------------\n",
      "Island1 contains station(s): 1, 4, 8\n",
      "\n",
      "In zone2, the islands are the following: \n",
      "--------------------------\n",
      "Island1 contains station(s): 2, 3\n",
      "--------------------------\n",
      "Island2 contains station(s): 4\n",
      "\n",
      "In zone3, the islands are the following: \n",
      "--------------------------\n",
      "Island1 contains station(s): 5, 7, 9, 6\n",
      "\n",
      "Find connections between islands in zone2.\n",
      "Station2 is in island: [2, 3]\n",
      "Station4 is in island: [4]\n",
      "\n",
      "3  - via line1 - 1 - via line1 - 4\n",
      "The path goes through zones in the following order: [2.0, 1.0, 1.5, 1.5]\n",
      "Finding connections between islands takes 0.0010006427764892578\n"
     ]
    }
   ],
   "source": [
    "from island import Island\n",
    "import time\n",
    "\n",
    "# ================================ Test 1 ================================\n",
    "\n",
    "island = Island(stations, connections, adjList)\n",
    "begin = time.time()\n",
    "island.separateIslandInZone()\n",
    "print(f'Finding all islands takes {time.time() - begin}')\n",
    "island.printIsland()\n",
    "print()\n",
    "\n",
    "begin = time.time()\n",
    "island.findIslandInZone(stations[0], stations[6])\n",
    "print(f'Finding connections between islands takes {time.time() - begin}')\n",
    "\n",
    "# ================================ Test 2 ================================\n",
    "\n",
    "print('\\n', '\\n')\n",
    "\n",
    "stations = data_loader_island.loadStation()\n",
    "lines = data_loader_island.loadLine()\n",
    "connections = data_loader_island.loadConnections(stations, lines)\n",
    "\n",
    "adjList = AdjList(connections)\n",
    "\n",
    "island = Island(stations, connections, adjList)\n",
    "begin = time.time()\n",
    "island.separateIslandInZone()\n",
    "print(f'Finding all islands takes {time.time() - begin}')\n",
    "island.printIsland()\n",
    "print()\n",
    "\n",
    "begin = time.time()\n",
    "island.findIslandInZone(stations[1], stations[3])\n",
    "print(f'Finding connections between islands takes {time.time() - begin}')"
   ]
  },
  {
   "cell_type": "markdown",
   "id": "8411a095-c8c5-49f9-b51f-5706e0e46110",
   "metadata": {},
   "source": [
    "### Decisions and Justifications  \n",
    "\n",
    "1. Use dictionaries to represent the graph  \n",
    "    - Since it is <b>simple to access the data</b> using an index, we utilize dictionaries to store the zone_graph and island_graph. For zone_graph, we specify the zone number as the key and a list of the stations that are in this zone as the associated value. The zone number serves as the key and the list of islands in that zone serves as the value for island graph (each island is a sublist of stations). The implementation is easier to understand when using dictionaries rather than lists because the zone number starts at 1, whereas the index of a list begins at 0.   \n",
    "   <br>\n",
    "2. Use A\\* instead of Dijkstra to find the shortest path  \n",
    "    - When a user inputs two stations, the algorithm prints out if they are in the same zone and on separate islands and then determines the shortest path between the islands of these two stations and the zone they traversed. Each station in station 1's island will serve as the start point for the A\\* algorithm, while each station in station 2's island will serve as the end point. Depsite the fact that our versionof Dijkstra has a feature that takes into consideration transfer time, A\\* is more appropriate than Dijkstra since we just need to identify the shortest path based on the journey time and physical distance. Furthermore, <b>execution time of A\\* is demonstrably quicker</b> than Dijkstra's in this case.  \n",
    "     <br>\n",
    "3. Accept two stations as the input  \n",
    "    - We could index the islands and allow the user to input them directly rather than accepting two stations as the input and identifying the islands to which they belong. This strategy, however, has a number of shortcomings. First of all, since the two islands share nothing common, indexing an island can be challenging. It is also possible that the order in which the islands are kept could be disrupted. In the opposite, <b>inputting stations provide a consistent reference to the islands</b>. Additionally, requesting inputs from an island is not very user-friendly because users need a complete list of stations. On the other hand, <b>users may easily give two stations</b>, and we can quickly get the islands they are in.  \n",
    "    <br>\n",
    "4. Give the output using print instead of return  \n",
    "    - We can customize our print function to satisfy our requirements while returning the path requires additional data processing. It is also more intuitive to print out the full path. <i>Note that a return statement was added for testing purposes.</i>"
   ]
  },
  {
   "cell_type": "markdown",
   "id": "99119849-6144-4b24-af20-540706ad89e8",
   "metadata": {},
   "source": [
    "## Week 2 UML\n",
    "<!-- ![Week 2 UML](C:\\Study\\University\\Third_Year_Fall_Term\\SFWRENG 3XB3\\l1-graph-lab\\images\\Lab-1_UML_Week2.png)   -->\n",
    "![Week 2 UML](.\\images\\Lab-1_UML_Week2.png)\n",
    "- Parts that are in blue are additional or modified feature in week 2. "
   ]
  },
  {
   "cell_type": "markdown",
   "id": "40cf10be-3a4e-4358-9bd6-b8f354806d9d",
   "metadata": {},
   "source": [
    "## Changes and SOLID Principles  \n",
    "\n",
    "### single responsibility  \n",
    "- There are separate jobs for each class in our library. We separate the route-generating functionality from the path-finding algorithms and construct a new class called \"path generator\" to obtain and print the path we discovered using various algorithms. The design becomes more manageable and reduces duplication caused by writing the same code twice for the two algorithms.  \n",
    "\n",
    "### open-closed principle  \n",
    "- We use the strategy pattern that each algorithm is extended from an abstract shortestPathAlgo class while building the two shortest path algorithms. This makes it simple to tweak and update the design with new algorithms. It encapsulates the different strategies and can quickly switch between these algorithms depending on certain circumstances.  \n",
    "    \n",
    "### dependency inversion  \n",
    "- Our shortestPathAlgo abstract class, notably the new function runAlgorithm() function where we run A\\* or Dijkstra algorithm without stating which one we are using, greatly improves the dependency inversion principle. As a result, the dependency chain is reversed and the shortest path finding algorithm will be applied to any object that does runAlgorithm() regardless of how the method is implemented."
   ]
  },
  {
   "cell_type": "markdown",
   "id": "f933934e-0cc6-4ff6-b087-010f576e5f2d",
   "metadata": {
    "tags": []
   },
   "source": [
    "## Analysis of Algorithm Performances  \n",
    "\n",
    "### TSP  \n",
    "- The algorithm's time complexity is O(N!×N) since it generates every permutation of the given stations, checks if the permutation forms a Hamilton cycle, and updates the shortest_dist and shortest_path if a better path is found. In the worst case, there is a connection between every two stations, then checking each permutation takes N times as it checks all stations. As a result, N!×N checks will be performed to examine the permutations.  \n",
    "  \n",
    "- Clearly, an algorithm with a complexity of <i>O(N!×N)</i> is not quite efficient, but due to the situation we are given that the patrol officer is travelling among a series of stations to ensure security and offer assistance, it is reasonable to assume that the officer will visit less than ten stations (there may be multiple officers that take care of each zone of the subway system), which only leads to a slight delay in our program. Furthermore, this brute-force algorithm will not always run at O(N!×N) as the lack of connections between many stations. It will always provide us with the most efficient route reliably too, as it considers every possibility.  \n",
    "\n",
    "- In fact, running this brute-force algorithm on a set of 9 stations only takes <i>0.05 s</i>, which we considered acceptable according to the number of stations we assumed above (i.e., <= 10 stations).  \n",
    "\n",
    "### Find Islands  \n",
    "- The complexity of the algorithm is <i>O(V)</i>, and V is the length of the station's list (number of nodes in the graph) since we use the dictionaries to represent the graph that visiting one node takes O(1) and it runs DFS on each node (station) of the zone_graph. There is no worst case scenario because every single node will be visited in the for loop or in the DFS recursion exactly once in order to find all connected islands, while the visited node will be skipped. Therefore, there is no additional complexity and the time complexity of island finding is linear (i.e., O(V)).  \n",
    "  \n",
    "- To find the island of provided London Subway Stations graph, the runtime of this algorithm only takes <i>0.002995 s</i> for 300+ stations, which can be considered an efficient result.  \n",
    "  \n",
    "\n",
    "### Find Connection Between Islands  \n",
    "- We must first determine which islands the two stations are on in order to establish links between them. In order to do this, we access the island graph dictionary using station.zone as an index and run a search across all islands in that zone. Then, to identify the shortest route between any two stations on the two islands, we traverse through each pair of stations using a nested for loop. The time complexity of finding islands will be O(N) if both stations are part of islands that have N stations. Since two stations in the same zone should be close to one another based on physical distance, the A\\* heuristic should generate an output in this situation very quickly. Nevertheless, we must execute A\\* N times. Therefore, the time complexity is at least O(N×N). The final algorithm will be <b>AT LEAST</b> <i>O(N×N)</i> given O(N) in finding islands and O(N×N) in A\\*'s.  \n",
    "  \n",
    "- Due to the close distance between the two stations, A\\* should offer us an answer in a relatively short amount of time. As a matter of fact, running the algorithm takes <i>0.092 s</i> for two islands with the size of 14 and 8, which we considered acceptable since our program will be utilized in a subway system rather than in a scientific circumstance.  \n",
    "  "
   ]
  },
  {
   "cell_type": "markdown",
   "id": "beba69f1-ed4d-44dc-8d36-5d07665befcc",
   "metadata": {},
   "source": [
    "# Week 3"
   ]
  },
  {
   "cell_type": "markdown",
   "id": "b1504a03-7c80-4fbf-b249-96a34d2ff9bf",
   "metadata": {},
   "source": [
    "## Test for Random Graph Generator"
   ]
  },
  {
   "cell_type": "code",
   "execution_count": 9,
   "id": "0d2eb6cc-f5ac-4f06-a983-83c02afbdfae",
   "metadata": {},
   "outputs": [
    {
     "name": "stdout",
     "output_type": "stream",
     "text": [
      "=================== All path generated by DIJKSTRA ALGORITHM ===================\n",
      "↓ Route No.1 ↓\n",
      "9  - via line10 - 170 - via line11 - 175 - via line6 - 115 - via line11 - 300 - via line3 - 86\n",
      "Transfer times: 4  -  Travel time: 11\n",
      "\n",
      "=================== Top route decided ===================\n",
      "9  - via line10 - 170 - via line11 - 175 - via line6 - 115 - via line11 - 300 - via line3 - 86\n",
      "Transfer times: 4  -  Travel time: 11\n",
      "\n",
      "\n",
      "=================== THE BEST Path generated by A* ALGORITHM ===================\n",
      "9  - via line1 - 169 - via line11 - 18 - via line6 - 364 - via line13 - 105 - via line0 - 93 - via line13 - 390 - via line2 - 36 - via line9 - 174 - via line1 - 380 - via line10 - 12 - via line9 - 300 - via line3 - 86\n",
      "Transfer times: 11  -  Travel time: 25\n",
      "\n"
     ]
    }
   ],
   "source": [
    "from randomGen import RandomGenerator\n",
    "from randomNormal import RandomNormal\n",
    "from adjList import AdjList\n",
    "from dijkstra import Dijkstra\n",
    "from AStar import Astar\n",
    "from pathGenerator import PathGenerator\n",
    "\n",
    "# rg = RandomGenerator(400, 3)\n",
    "rg = RandomNormal(400, 4)\n",
    "\n",
    "connections = rg.c_list\n",
    "stations = rg.s_list\n",
    "lines = rg.l_list\n",
    "\n",
    "adjList = AdjList(connections)\n",
    "start = stations[9]\n",
    "end = stations[86]\n",
    "\n",
    "\n",
    "'''\n",
    "    Running Dijkstra algorithm to find the shortest path\n",
    "'''\n",
    "dijkstra_algo = Dijkstra(adjList, stations, connections, start, end)\n",
    "path_gen = PathGenerator()\n",
    "edgeTo, expanding_count = dijkstra_algo.findShortestPath()\n",
    "\n",
    "paths = path_gen.generatePath(edgeTo, start, end, connections)\n",
    "print(\"=================== All path generated by DIJKSTRA ALGORITHM ===================\")\n",
    "for i, path in enumerate(paths):\n",
    "    print(f\"↓ Route No.{i+1} ↓\")\n",
    "    path.printItinerary()\n",
    "    \n",
    "print('=================== Top route decided ===================')\n",
    "path_gen.pickTopInitinerary().printItinerary()\n",
    "\n",
    "\n",
    "'''\n",
    "    Running A* algorithm to find the shortest path\n",
    "'''\n",
    "\n",
    "astar_algo = Astar(adjList, stations, connections, start, end)\n",
    "path_gen = PathGenerator()\n",
    "edgeTo, expanding_count = astar_algo.findShortestPath()\n",
    "\n",
    "paths = path_gen.generatePath(edgeTo, start, end, connections)\n",
    "print(\"\\n=================== THE BEST Path generated by A* ALGORITHM ===================\")\n",
    "paths[0].printItinerary()"
   ]
  },
  {
   "cell_type": "markdown",
   "id": "912f07de-3333-4715-8fde-fa85129a21a7",
   "metadata": {},
   "source": [
    "## Normally Distributed Connections"
   ]
  },
  {
   "cell_type": "code",
   "execution_count": 10,
   "id": "d48c0ff4-6af8-4af1-9ca5-317c15b98244",
   "metadata": {},
   "outputs": [
    {
     "name": "stdout",
     "output_type": "stream",
     "text": [
      "Average degree of the nodes: 3.94\n"
     ]
    },
    {
     "data": {
      "image/png": "[encoded data removed]",
      "text/plain": [
       "<Figure size 640x480 with 1 Axes>"
      ]
     },
     "metadata": {},
     "output_type": "display_data"
    }
   ],
   "source": [
    "from metricsHandler import MetricsHandler\n",
    "\n",
    "metrics_handler = MetricsHandler(stations, lines, connections)\n",
    "\n",
    "print(f\"Average degree of the nodes: {metrics_handler.computeAvgDeg():.2f}\")\n",
    "\n",
    "metrics_handler.plot()"
   ]
  },
  {
   "cell_type": "markdown",
   "id": "060a0780-4116-45a2-b1c8-5a5481e02e61",
   "metadata": {},
   "source": [
    "# Self Reflection\n",
    "### Have you done a similar kind of work in the past?  \n",
    "- WY: No, I haven't done any graph implementation and coded the related algorithms, especially for Astar and the traveling salesman problem algorithm that I haven't heard of. However, I've learned graph data structure, Dijkstra, and connected components by understanding the concepts behind the algorithm.  \n",
    "- XZ: Not really. Even though I had experience with Python programming and object-oriented programming, I had never designed and implemented such a graph system. Several algorithms like A\\* and TSP solution are also new to me. I wasn't very familiar with benchmarking and measuing KPIs before as well.  \n",
    "     \n",
    "### How do you feel about this piece of work? What parts do you particularly like? Dislike? Why?  \n",
    "- WY: As engineering students, this work really helps us get more coding and design experience since it challenges us to put what we've learned into practice. But there are too many tasks that need to be completed in a single week. It takes a lot of times to complete each stage because this is the first time we try to complete this kind of task.  \n",
    "- XZ: This project taught me a lot in terms of polishing my code and making decisions based on the resources provided and client requirements. I was highly engaged while accomplishing weekly goals and summarizing our work in the report. It would be a nicer experience if we are given more time to refine our work and make wiser decisions.   \n",
    "       \n",
    "### Outward What is the one thing you particularly want people to notice about your work?  \n",
    "- WY: The data structures and ways of implementing algorithms we used are intuitive and easy to understand. Our way of structuring classes and functions also enhanced SOLID principles. It was also noteworthy that we documented almost all decisions we made, including why we choose certain data structures, how we implemented some of the algorithms, etc.  \n",
    "- XZ: We created some data structures like PrioritizedItem to satisfy our requirements, and these data structures can also be helpful in other applications. We also created private methods in some classes to reduce the amount of duplicate code in those classes, which shortens our functions and improve the readability of our code depite of slightly increase in the project's complexity.  \n",
    "       \n",
    "### Forward What would you change if you had the chance to do this project over again?  \n",
    "- WY: The next time, I may try to design the data structures and algorithm fully before I actually implement it. Since we are unfamiliar with this kind of project, we try to code it and output what it looks like whenever we have some ideas. And there have many alterations in the process.  \n",
    "- XZ: I will devote more time in the preparation stage of the project, including making flow charts, figuring out client requirements, and constructing the UML diagram. Another improvement will be to push the local repository more often to keep the design process documented.  \n"
   ]
  }
 ],
 "metadata": {
  "kernelspec": {
   "display_name": "Python 3 (ipykernel)",
   "language": "python",
   "name": "python3"
  },
  "language_info": {
   "codemirror_mode": {
    "name": "ipython",
    "version": 3
   },
   "file_extension": ".py",
   "mimetype": "text/x-python",
   "name": "python",
   "nbconvert_exporter": "python",
   "pygments_lexer": "ipython3",
   "version": "3.9.1"
  }
 },
 "nbformat": 4,
 "nbformat_minor": 5
}
